{
 "cells": [
  {
   "cell_type": "code",
   "execution_count": 135,
   "id": "3425b1c6-5f6f-4c51-afa3-52d36856c215",
   "metadata": {
    "tags": []
   },
   "outputs": [],
   "source": [
    "from quantrocket.license import set_license"
   ]
  },
  {
   "cell_type": "code",
   "execution_count": 41,
   "id": "bd3db441-3c2e-4f69-8186-c7774fc6acb0",
   "metadata": {
    "tags": []
   },
   "outputs": [
    {
     "data": {
      "text/plain": [
       "{'licensekey': 'f22f........a2bb', 'software_license': {}}"
      ]
     },
     "execution_count": 41,
     "metadata": {},
     "output_type": "execute_result"
    }
   ],
   "source": [
    "set_license(\"f22f9561-dddb-11ee-a01a-8bdf3e4aa2bb\")"
   ]
  },
  {
   "cell_type": "code",
   "execution_count": 42,
   "id": "236bd971-4836-4fcf-ab1e-d36ec0bd47f3",
   "metadata": {
    "tags": []
   },
   "outputs": [
    {
     "data": {
      "text/plain": [
       "{'licensekey': 'f22f........a2bb', 'software_license': {}}"
      ]
     },
     "execution_count": 42,
     "metadata": {},
     "output_type": "execute_result"
    }
   ],
   "source": [
    "from quantrocket.license import get_license_profile\n",
    "get_license_profile(force_refresh=True)"
   ]
  },
  {
   "cell_type": "markdown",
   "id": "8f5d2071-e5a4-44f7-8541-df09beed5386",
   "metadata": {},
   "source": [
    "To collect end-of-day sample data for US stocks"
   ]
  },
  {
   "cell_type": "code",
   "execution_count": 44,
   "id": "d99063b3-9fb0-458e-ab56-7d1e20624878",
   "metadata": {
    "tags": []
   },
   "outputs": [
    {
     "data": {
      "text/plain": [
       "{'status': 'deleted quantrocket.v2.history.usstock-free-1d.sqlite'}"
      ]
     },
     "execution_count": 44,
     "metadata": {},
     "output_type": "execute_result"
    }
   ],
   "source": [
    "from quantrocket.history import drop_db\n",
    "drop_db(\"usstock-free-1d\", confirm_by_typing_db_code_again=\"usstock-free-1d\")"
   ]
  },
  {
   "cell_type": "code",
   "execution_count": 45,
   "id": "4ed47f0b-635e-4acb-89fe-60e8fc856f68",
   "metadata": {
    "tags": []
   },
   "outputs": [
    {
     "data": {
      "text/plain": [
       "{'status': 'successfully created quantrocket.v2.history.usstock-free-1d.sqlite'}"
      ]
     },
     "execution_count": 45,
     "metadata": {},
     "output_type": "execute_result"
    }
   ],
   "source": [
    "from quantrocket.history import create_usstock_db\n",
    "create_usstock_db(\"usstock-free-1d\", bar_size=\"1 day\", free=True)"
   ]
  },
  {
   "cell_type": "code",
   "execution_count": 46,
   "id": "cda41579-28d8-4044-a05b-1951d14bef21",
   "metadata": {
    "tags": []
   },
   "outputs": [
    {
     "data": {
      "text/plain": [
       "{'status': 'the historical data will be collected asynchronously'}"
      ]
     },
     "execution_count": 46,
     "metadata": {},
     "output_type": "execute_result"
    }
   ],
   "source": [
    "#Then collect the data:\n",
    "from quantrocket.history import collect_history\n",
    "collect_history(\"usstock-free-1d\")"
   ]
  },
  {
   "cell_type": "code",
   "execution_count": 110,
   "id": "70c3424f-d740-474c-8dd3-7923a5a81230",
   "metadata": {},
   "outputs": [
    {
     "data": {
      "text/html": [
       "<div>\n",
       "<style scoped>\n",
       "    .dataframe tbody tr th:only-of-type {\n",
       "        vertical-align: middle;\n",
       "    }\n",
       "\n",
       "    .dataframe tbody tr th {\n",
       "        vertical-align: top;\n",
       "    }\n",
       "\n",
       "    .dataframe thead th {\n",
       "        text-align: right;\n",
       "    }\n",
       "</style>\n",
       "<table border=\"1\" class=\"dataframe\">\n",
       "  <thead>\n",
       "    <tr style=\"text-align: right;\">\n",
       "      <th></th>\n",
       "      <th>Symbol</th>\n",
       "      <th>Exchange</th>\n",
       "      <th>Country</th>\n",
       "      <th>Currency</th>\n",
       "      <th>SecType</th>\n",
       "      <th>Etf</th>\n",
       "      <th>Timezone</th>\n",
       "      <th>Name</th>\n",
       "      <th>PriceMagnifier</th>\n",
       "      <th>Multiplier</th>\n",
       "      <th>Delisted</th>\n",
       "      <th>DateDelisted</th>\n",
       "      <th>LastTradeDate</th>\n",
       "      <th>RolloverDate</th>\n",
       "    </tr>\n",
       "    <tr>\n",
       "      <th>Sid</th>\n",
       "      <th></th>\n",
       "      <th></th>\n",
       "      <th></th>\n",
       "      <th></th>\n",
       "      <th></th>\n",
       "      <th></th>\n",
       "      <th></th>\n",
       "      <th></th>\n",
       "      <th></th>\n",
       "      <th></th>\n",
       "      <th></th>\n",
       "      <th></th>\n",
       "      <th></th>\n",
       "      <th></th>\n",
       "    </tr>\n",
       "  </thead>\n",
       "  <tbody>\n",
       "    <tr>\n",
       "      <th>FIBBG000B9XRY4</th>\n",
       "      <td>AAPL</td>\n",
       "      <td>XNAS</td>\n",
       "      <td>US</td>\n",
       "      <td>USD</td>\n",
       "      <td>STK</td>\n",
       "      <td>False</td>\n",
       "      <td>America/New_York</td>\n",
       "      <td>APPLE INC</td>\n",
       "      <td>1</td>\n",
       "      <td>1</td>\n",
       "      <td>False</td>\n",
       "      <td>NaT</td>\n",
       "      <td>NaT</td>\n",
       "      <td>NaT</td>\n",
       "    </tr>\n",
       "    <tr>\n",
       "      <th>FIBBG000BFWKC0</th>\n",
       "      <td>MON</td>\n",
       "      <td>XNYS</td>\n",
       "      <td>US</td>\n",
       "      <td>USD</td>\n",
       "      <td>STK</td>\n",
       "      <td>False</td>\n",
       "      <td>America/New_York</td>\n",
       "      <td>MONSANTO CO</td>\n",
       "      <td>1</td>\n",
       "      <td>1</td>\n",
       "      <td>True</td>\n",
       "      <td>2018-06-06</td>\n",
       "      <td>NaT</td>\n",
       "      <td>NaT</td>\n",
       "    </tr>\n",
       "    <tr>\n",
       "      <th>FIBBG000BKZB36</th>\n",
       "      <td>HD</td>\n",
       "      <td>XNYS</td>\n",
       "      <td>US</td>\n",
       "      <td>USD</td>\n",
       "      <td>STK</td>\n",
       "      <td>False</td>\n",
       "      <td>America/New_York</td>\n",
       "      <td>HOME DEPOT INC</td>\n",
       "      <td>1</td>\n",
       "      <td>1</td>\n",
       "      <td>False</td>\n",
       "      <td>NaT</td>\n",
       "      <td>NaT</td>\n",
       "      <td>NaT</td>\n",
       "    </tr>\n",
       "    <tr>\n",
       "      <th>FIBBG000BMHYD1</th>\n",
       "      <td>JNJ</td>\n",
       "      <td>XNYS</td>\n",
       "      <td>US</td>\n",
       "      <td>USD</td>\n",
       "      <td>STK</td>\n",
       "      <td>False</td>\n",
       "      <td>America/New_York</td>\n",
       "      <td>JOHNSON &amp; JOHNSON</td>\n",
       "      <td>1</td>\n",
       "      <td>1</td>\n",
       "      <td>False</td>\n",
       "      <td>NaT</td>\n",
       "      <td>NaT</td>\n",
       "      <td>NaT</td>\n",
       "    </tr>\n",
       "    <tr>\n",
       "      <th>FIBBG000BPH459</th>\n",
       "      <td>MSFT</td>\n",
       "      <td>XNAS</td>\n",
       "      <td>US</td>\n",
       "      <td>USD</td>\n",
       "      <td>STK</td>\n",
       "      <td>False</td>\n",
       "      <td>America/New_York</td>\n",
       "      <td>MICROSOFT CORP</td>\n",
       "      <td>1</td>\n",
       "      <td>1</td>\n",
       "      <td>False</td>\n",
       "      <td>NaT</td>\n",
       "      <td>NaT</td>\n",
       "      <td>NaT</td>\n",
       "    </tr>\n",
       "  </tbody>\n",
       "</table>\n",
       "</div>"
      ],
      "text/plain": [
       "               Symbol Exchange Country Currency SecType    Etf  \\\n",
       "Sid                                                              \n",
       "FIBBG000B9XRY4   AAPL     XNAS      US      USD     STK  False   \n",
       "FIBBG000BFWKC0    MON     XNYS      US      USD     STK  False   \n",
       "FIBBG000BKZB36     HD     XNYS      US      USD     STK  False   \n",
       "FIBBG000BMHYD1    JNJ     XNYS      US      USD     STK  False   \n",
       "FIBBG000BPH459   MSFT     XNAS      US      USD     STK  False   \n",
       "\n",
       "                        Timezone               Name  PriceMagnifier  \\\n",
       "Sid                                                                   \n",
       "FIBBG000B9XRY4  America/New_York          APPLE INC               1   \n",
       "FIBBG000BFWKC0  America/New_York        MONSANTO CO               1   \n",
       "FIBBG000BKZB36  America/New_York     HOME DEPOT INC               1   \n",
       "FIBBG000BMHYD1  America/New_York  JOHNSON & JOHNSON               1   \n",
       "FIBBG000BPH459  America/New_York     MICROSOFT CORP               1   \n",
       "\n",
       "                Multiplier  Delisted DateDelisted LastTradeDate RolloverDate  \n",
       "Sid                                                                           \n",
       "FIBBG000B9XRY4           1     False          NaT           NaT          NaT  \n",
       "FIBBG000BFWKC0           1      True   2018-06-06           NaT          NaT  \n",
       "FIBBG000BKZB36           1     False          NaT           NaT          NaT  \n",
       "FIBBG000BMHYD1           1     False          NaT           NaT          NaT  \n",
       "FIBBG000BPH459           1     False          NaT           NaT          NaT  "
      ]
     },
     "execution_count": 110,
     "metadata": {},
     "output_type": "execute_result"
    }
   ],
   "source": [
    "from quantrocket.master import get_securities\n",
    "# by specifying sec_types='STK', we exclude ETFs, which are present in the sample data \n",
    "securities = get_securities(vendors=\"usstock\", sec_types=\"STK\")\n",
    "securities.head()"
   ]
  },
  {
   "cell_type": "code",
   "execution_count": 111,
   "id": "e9259a56-8353-4c2d-aa22-aa6b627d1336",
   "metadata": {
    "tags": []
   },
   "outputs": [
    {
     "data": {
      "text/html": [
       "<div>\n",
       "<style scoped>\n",
       "    .dataframe tbody tr th:only-of-type {\n",
       "        vertical-align: middle;\n",
       "    }\n",
       "\n",
       "    .dataframe tbody tr th {\n",
       "        vertical-align: top;\n",
       "    }\n",
       "\n",
       "    .dataframe thead th {\n",
       "        text-align: right;\n",
       "    }\n",
       "</style>\n",
       "<table border=\"1\" class=\"dataframe\">\n",
       "  <thead>\n",
       "    <tr style=\"text-align: right;\">\n",
       "      <th></th>\n",
       "      <th>Symbol</th>\n",
       "      <th>Exchange</th>\n",
       "      <th>Name</th>\n",
       "      <th>Delisted</th>\n",
       "    </tr>\n",
       "    <tr>\n",
       "      <th>Sid</th>\n",
       "      <th></th>\n",
       "      <th></th>\n",
       "      <th></th>\n",
       "      <th></th>\n",
       "    </tr>\n",
       "  </thead>\n",
       "  <tbody>\n",
       "    <tr>\n",
       "      <th>FIBBG000B9XRY4</th>\n",
       "      <td>AAPL</td>\n",
       "      <td>XNAS</td>\n",
       "      <td>APPLE INC</td>\n",
       "      <td>False</td>\n",
       "    </tr>\n",
       "    <tr>\n",
       "      <th>FIBBG000BKZB36</th>\n",
       "      <td>HD</td>\n",
       "      <td>XNYS</td>\n",
       "      <td>HOME DEPOT INC</td>\n",
       "      <td>False</td>\n",
       "    </tr>\n",
       "    <tr>\n",
       "      <th>FIBBG000BMHYD1</th>\n",
       "      <td>JNJ</td>\n",
       "      <td>XNYS</td>\n",
       "      <td>JOHNSON &amp; JOHNSON</td>\n",
       "      <td>False</td>\n",
       "    </tr>\n",
       "    <tr>\n",
       "      <th>FIBBG000BPH459</th>\n",
       "      <td>MSFT</td>\n",
       "      <td>XNAS</td>\n",
       "      <td>MICROSOFT CORP</td>\n",
       "      <td>False</td>\n",
       "    </tr>\n",
       "    <tr>\n",
       "      <th>FIBBG000GZQ728</th>\n",
       "      <td>XOM</td>\n",
       "      <td>XNYS</td>\n",
       "      <td>EXXON MOBIL CORP</td>\n",
       "      <td>False</td>\n",
       "    </tr>\n",
       "    <tr>\n",
       "      <th>FIBBG00B3T3HD3</th>\n",
       "      <td>AA</td>\n",
       "      <td>XNYS</td>\n",
       "      <td>ALCOA CORP</td>\n",
       "      <td>False</td>\n",
       "    </tr>\n",
       "  </tbody>\n",
       "</table>\n",
       "</div>"
      ],
      "text/plain": [
       "               Symbol Exchange               Name  Delisted\n",
       "Sid                                                        \n",
       "FIBBG000B9XRY4   AAPL     XNAS          APPLE INC     False\n",
       "FIBBG000BKZB36     HD     XNYS     HOME DEPOT INC     False\n",
       "FIBBG000BMHYD1    JNJ     XNYS  JOHNSON & JOHNSON     False\n",
       "FIBBG000BPH459   MSFT     XNAS     MICROSOFT CORP     False\n",
       "FIBBG000GZQ728    XOM     XNYS   EXXON MOBIL CORP     False\n",
       "FIBBG00B3T3HD3     AA     XNYS         ALCOA CORP     False"
      ]
     },
     "execution_count": 111,
     "metadata": {},
     "output_type": "execute_result"
    }
   ],
   "source": [
    "filtered_securities = securities[securities.Delisted==False]\n",
    "# also limit the number of columns for readability\n",
    "filtered_securities = filtered_securities[[\"Symbol\", \"Exchange\", \"Name\", \"Delisted\"]]\n",
    "filtered_securities"
   ]
  },
  {
   "cell_type": "markdown",
   "id": "cac8d576-3d5a-4559-97f6-1a415e5b5411",
   "metadata": {},
   "source": [
    "#### Ensure you are able to pull price data (daily close prices only) for Apple stock (sid=‘AAPL’) "
   ]
  },
  {
   "cell_type": "code",
   "execution_count": 112,
   "id": "fdcb825c-46e3-4ccf-8a57-a77a06539871",
   "metadata": {
    "tags": []
   },
   "outputs": [
    {
     "name": "stdout",
     "output_type": "stream",
     "text": [
      "AAPL :::\n",
      "               Symbol Exchange Country Currency SecType    Etf  \\\n",
      "Sid                                                              \n",
      "FIBBG000B9XRY4   AAPL     XNAS      US      USD     STK  False   \n",
      "\n",
      "                        Timezone       Name  PriceMagnifier  Multiplier  \\\n",
      "Sid                                                                       \n",
      "FIBBG000B9XRY4  America/New_York  APPLE INC               1           1   \n",
      "\n",
      "                Delisted DateDelisted LastTradeDate RolloverDate  \n",
      "Sid                                                               \n",
      "FIBBG000B9XRY4     False          NaT           NaT          NaT  \n"
     ]
    }
   ],
   "source": [
    "aapl=securities[securities['Symbol']=='AAPL']\n",
    "print(\"AAPL :::\")\n",
    "print(aapl)"
   ]
  },
  {
   "cell_type": "code",
   "execution_count": 134,
   "id": "53ca79e9-06aa-4aeb-9664-4be1b6235169",
   "metadata": {
    "tags": []
   },
   "outputs": [
    {
     "data": {
      "text/html": [
       "<div>\n",
       "<style scoped>\n",
       "    .dataframe tbody tr th:only-of-type {\n",
       "        vertical-align: middle;\n",
       "    }\n",
       "\n",
       "    .dataframe tbody tr th {\n",
       "        vertical-align: top;\n",
       "    }\n",
       "\n",
       "    .dataframe thead th {\n",
       "        text-align: right;\n",
       "    }\n",
       "</style>\n",
       "<table border=\"1\" class=\"dataframe\">\n",
       "  <thead>\n",
       "    <tr style=\"text-align: right;\">\n",
       "      <th></th>\n",
       "      <th>Symbol</th>\n",
       "      <th>Exchange</th>\n",
       "      <th>Name</th>\n",
       "      <th>Delisted</th>\n",
       "    </tr>\n",
       "    <tr>\n",
       "      <th>Sid</th>\n",
       "      <th></th>\n",
       "      <th></th>\n",
       "      <th></th>\n",
       "      <th></th>\n",
       "    </tr>\n",
       "  </thead>\n",
       "  <tbody>\n",
       "    <tr>\n",
       "      <th>FIBBG000B9XRY4</th>\n",
       "      <td>AAPL</td>\n",
       "      <td>XNAS</td>\n",
       "      <td>APPLE INC</td>\n",
       "      <td>False</td>\n",
       "    </tr>\n",
       "  </tbody>\n",
       "</table>\n",
       "</div>"
      ],
      "text/plain": [
       "               Symbol Exchange       Name  Delisted\n",
       "Sid                                                \n",
       "FIBBG000B9XRY4   AAPL     XNAS  APPLE INC     False"
      ]
     },
     "execution_count": 134,
     "metadata": {},
     "output_type": "execute_result"
    }
   ],
   "source": [
    "filtered_aapl = aapl[aapl.Delisted==False]\n",
    "# also limit the number of columns for readability\n",
    "filtered_aapl = filtered_aapl[[\"Symbol\", \"Exchange\", \"Name\", \"Delisted\"]]\n",
    "filtered_aapl"
   ]
  },
  {
   "cell_type": "code",
   "execution_count": 148,
   "id": "23463b89-996b-4ae9-a5ee-1cb9d1426728",
   "metadata": {
    "tags": []
   },
   "outputs": [],
   "source": [
    "import pandas as pd\n",
    "import numpy as np\n",
    "import matplotlib.pyplot as plt\n",
    "import seaborn as sns\n",
    "from statsmodels.tsa.arima.model import ARIMA"
   ]
  },
  {
   "cell_type": "markdown",
   "id": "8ce4c048-4903-4083-8614-13bb7918deff",
   "metadata": {},
   "source": [
    "#### Year 2023 (01-01-2023 to 12-31-2023)."
   ]
  },
  {
   "cell_type": "code",
   "execution_count": 115,
   "id": "a60e26e1-b664-4ae4-89fd-100e3d066d27",
   "metadata": {
    "tags": []
   },
   "outputs": [
    {
     "name": "stdout",
     "output_type": "stream",
     "text": [
      "Sid               FIBBG000B9XRY4\n",
      "Field Date                      \n",
      "Close 2023-01-03        124.2163\n",
      "      2023-01-04        125.4975\n",
      "      2023-01-05        124.1666\n",
      "      2023-01-06        128.7352\n",
      "      2023-01-09        129.2616\n",
      "...                          ...\n",
      "      2023-12-22        193.3533\n",
      "      2023-12-26        192.8040\n",
      "      2023-12-27        192.9038\n",
      "      2023-12-28        193.3333\n",
      "      2023-12-29        192.2846\n",
      "\n",
      "[250 rows x 1 columns]\n"
     ]
    }
   ],
   "source": [
    "from quantrocket import get_prices\n",
    "\n",
    "aapl_SID=filtered_aapl.index[0]\n",
    "aapl_Prices = get_prices(\"usstock-free-1d\",sids=aapl_SID,start_date=\"2023-01-01\",end_date=\"2023-12-31\", fields=[\"Close\"])\n",
    "print(aapl_Prices)"
   ]
  },
  {
   "cell_type": "code",
   "execution_count": 116,
   "id": "851d0386-47b3-4a18-a377-c21943911376",
   "metadata": {
    "tags": []
   },
   "outputs": [
    {
     "name": "stdout",
     "output_type": "stream",
     "text": [
      "Index(['Field', 'Date', 'FIBBG000B9XRY4'], dtype='object', name='Sid')\n",
      "Sid         FIBBG000B9XRY4\n",
      "Date                      \n",
      "2023-01-03        124.2163\n",
      "2023-01-04        125.4975\n",
      "2023-01-05        124.1666\n",
      "2023-01-06        128.7352\n",
      "2023-01-09        129.2616\n",
      "...                    ...\n",
      "2023-12-22        193.3533\n",
      "2023-12-26        192.8040\n",
      "2023-12-27        192.9038\n",
      "2023-12-28        193.3333\n",
      "2023-12-29        192.2846\n",
      "\n",
      "[250 rows x 1 columns]\n"
     ]
    }
   ],
   "source": [
    "reset= aapl_Prices.reset_index()\n",
    "columns=reset.columns\n",
    "print(columns)\n",
    "aapl_processing = reset[['Date', 'FIBBG000B9XRY4']]\n",
    "#setting index as date\n",
    "aapl_processing.set_index('Date', inplace=True)\n",
    "print(aapl_processing)\n"
   ]
  },
  {
   "cell_type": "markdown",
   "id": "f3a2d1de-cf7c-48c1-a1d6-c0dbbbac5b44",
   "metadata": {},
   "source": [
    "# Preprocessing"
   ]
  },
  {
   "cell_type": "code",
   "execution_count": 137,
   "id": "cf290212-1b5a-498d-b40b-3a745d172263",
   "metadata": {
    "tags": []
   },
   "outputs": [
    {
     "name": "stdout",
     "output_type": "stream",
     "text": [
      "No. of null values= 0\n",
      "2023-01-03 00:00:00 2023-12-29 00:00:00\n",
      "True\n"
     ]
    },
    {
     "data": {
      "image/png": "[encoded data removed]",
      "text/plain": [
       "<Figure size 1152x432 with 1 Axes>"
      ]
     },
     "metadata": {},
     "output_type": "display_data"
    }
   ],
   "source": [
    "# Checking for missing values\n",
    "print(\"No. of null values=\",aapl_processing.isnull().sum().values[0])\n",
    "\n",
    "# Verify date range\n",
    "print(aapl_processing.index.min(), aapl_processing.index.max())\n",
    "\n",
    "# Check for duplicates\n",
    "print(aapl_processing.duplicated().any())  \n",
    "\n",
    "# PLotting\n",
    "aapl_processing.plot(y='FIBBG000B9XRY4', kind='line', title='AAPL Processing Data')\n",
    "plt.xlabel('Date')\n",
    "plt.ylabel('FIBBG000B9XRY4')\n",
    "plt.show()\n"
   ]
  },
  {
   "cell_type": "markdown",
   "id": "f503d19d-27e6-4c63-8d0f-008fe292f4fc",
   "metadata": {},
   "source": [
    "#### Outliers"
   ]
  },
  {
   "cell_type": "code",
   "execution_count": 160,
   "id": "5937e603-46de-4654-a34b-447a3b92ae70",
   "metadata": {
    "tags": []
   },
   "outputs": [
    {
     "name": "stdout",
     "output_type": "stream",
     "text": [
      "Outliers: Empty DataFrame\n",
      "Columns: [FIBBG000B9XRY4]\n",
      "Index: []\n"
     ]
    }
   ],
   "source": [
    "#outliers using Z-score\n",
    "\n",
    "z_scores = (aapl_processing['FIBBG000B9XRY4'] - aapl_processing['FIBBG000B9XRY4'].mean()) / aapl_processing['FIBBG000B9XRY4'].std()\n",
    "threshold = 3\n",
    "outliers = aapl_processing[abs(z_scores) > threshold]\n",
    "print(\"Outliers:\",outliers)"
   ]
  },
  {
   "cell_type": "code",
   "execution_count": 119,
   "id": "769d30de-a474-4fc7-9e47-3053ad8588a9",
   "metadata": {
    "tags": []
   },
   "outputs": [
    {
     "name": "stdout",
     "output_type": "stream",
     "text": [
      "Outliers using IQR:\n",
      "Empty DataFrame\n",
      "Columns: [FIBBG000B9XRY4]\n",
      "Index: []\n"
     ]
    }
   ],
   "source": [
    "# Calculate the first quartile (Q1) and third quartile (Q3)\n",
    "Q1 = aapl_processing['FIBBG000B9XRY4'].quantile(0.25)\n",
    "Q3 = aapl_processing['FIBBG000B9XRY4'].quantile(0.75)\n",
    "\n",
    "# Calculate the IQR (Interquartile Range)\n",
    "IQR = Q3 - Q1\n",
    "\n",
    "# Define lower and upper bounds for identifying outliers\n",
    "lower_bound = Q1 - 1.5 * IQR\n",
    "upper_bound = Q3 + 1.5 * IQR\n",
    "\n",
    "# Identify outliers based on the lower and upper bounds\n",
    "outliers_iqr = aapl_processing[(aapl_processing['FIBBG000B9XRY4'] < lower_bound) | (aapl_processing['FIBBG000B9XRY4'] > upper_bound)]\n",
    "\n",
    "# Print the outliers using IQR\n",
    "print(\"Outliers using IQR:\")\n",
    "print(outliers_iqr)\n"
   ]
  },
  {
   "cell_type": "code",
   "execution_count": 120,
   "id": "269a6910-9b35-49ee-8ac1-0c5794ded5f9",
   "metadata": {
    "tags": []
   },
   "outputs": [
    {
     "name": "stdout",
     "output_type": "stream",
     "text": [
      "No outliers so not much risk\n"
     ]
    }
   ],
   "source": [
    "if len(outliers) or len(outliers_iqr):\n",
    "    print('We have outliers which means there has been risk ')\n",
    "else:\n",
    "    print(\"No outliers so not much risk\")\n"
   ]
  },
  {
   "cell_type": "markdown",
   "id": "16b6512c-93d1-4a13-a214-4f4859aa5a17",
   "metadata": {},
   "source": [
    "#### Let r(d) be the % returns on day d. That is,\n",
    "r(d) = (p(d) - p(d-1))/p(d-1)."
   ]
  },
  {
   "cell_type": "code",
   "execution_count": 138,
   "id": "1d50f1bb-fde6-474c-8d92-84525d70dea1",
   "metadata": {
    "tags": []
   },
   "outputs": [
    {
     "name": "stdout",
     "output_type": "stream",
     "text": [
      "Sid         FIBBG000B9XRY4\n",
      "Date                      \n",
      "2023-01-03        124.2163\n",
      "2023-01-04        125.4975\n",
      "2023-01-05        124.1666\n",
      "2023-01-06        128.7352\n",
      "2023-01-09        129.2616\n",
      "...                    ...\n",
      "2023-12-22        193.3533\n",
      "2023-12-26        192.8040\n",
      "2023-12-27        192.9038\n",
      "2023-12-28        193.3333\n",
      "2023-12-29        192.2846\n",
      "\n",
      "[250 rows x 1 columns]\n",
      "[0.010314266324145852, -0.010604992131317355, 0.036794113714960296, 0.004089013727403191, 0.0044568533887869655, 0.02111174181304805, -0.0005988891134932025, 0.010119291106223888, 0.008755964202085723, -0.005369889069201903, 0.00044382520733554447, 0.019220420002873165, 0.02350051742181537, 0.010063019633698222, -0.004700576657758638, 0.014803568982417012, 0.013683980824941603, -0.02007811836982236, 0.009021016885186315, 0.00790062600702964, 0.037062448550339945, 0.02440007877669143, -0.017928852868838087, 0.01924492167255171, -0.017652987348497063, -0.006911315390070449, 0.002455949738454667, 0.018807228899620585, -0.004225226944218683, 0.01390345345325651, -0.010429415689947227, -0.007546409634393457, -0.02667982952429855, 0.002895897332077671, 0.003290588538705798, -0.01800523260039249, 0.008247042611205012, -0.003447863384955102, -0.014245641841594247, 0.004129003691058104, 0.035090016005754704, 0.018539807133285815, -0.014496779038162017, 0.008377593171130994, -0.014914664365796282, -0.013878717275127624, 0.013265715082633939, 0.014088892244394536, 0.0026215609718815867, 0.018693934788080124, -0.005454046993178509, 0.0154841513325594, 0.011943974456501288, -0.00910345802645019, 0.00696978189971464, 0.008305595301803805, -0.012293662703451426, -0.003979938973422345, 0.019790451046788355, 0.009890167612577449, 0.015644156583982455, 0.007701288527018902, -0.003249485593906924, -0.011290398942401355, 0.005496330356896146, -0.015972691161260554, -0.007590756823397934, -0.004353336088424727, 0.03410361067503932, -0.002114390852618212, 0.00012109572769408733, 0.0075045922579914355, 0.006968580092169703, -0.005846227659829771, -0.00978130512315006, 0.0018788403826401363, -0.00943556851170134, -6.138716578519345e-05, 0.028395148888363714, 0.007541378186415769, -0.0005302789267153742, -0.006191253047016676, -0.006467826099405082, -0.00991289072045128, 0.046926865474338234, -0.00040371042899307923, -0.009971097261077241, 0.01039167027590159, 0.0011237679824598842, -0.0054175406113031125, -0.0028971814729316595, 0.0, 0.0036028267165792273, 0.013666010312149122, 0.0006285794906441469, -0.0054805669710152145, -0.015154903212867206, 0.0016320898474531033, 0.006691823811184843, 0.014104852024989867, 0.010659843573219337, -0.00028198905338882175, 0.016022402363485604, 0.004775294679053005, -0.007571092032654541, -0.0020601139575656307, -0.007756641126780165, 0.015465177661535571, 0.0021600169465421848, 0.01563899112446068, -0.002612156963211933, 0.0034914499183686253, 0.011198713722476614, -0.005859833558490135, 0.00048699024825097996, -0.005675531507909273, 0.016525100907898167, -0.001711008652216993, -0.007553280339367808, 0.015059509746333067, 0.006327664433593069, 0.001796233109255183, 0.02310264228395679, -0.007784397045655648, -0.005871582604341045, 0.0025086920065022582, -0.005890958386437387, -0.010856104880745582, -0.0028099501724879756, 0.008985257835744824, 0.004057696529796538, 0.0007871837631492922, 0.017305473994668873, -0.0013398755556292175, 0.007071638820944531, -0.010097636732077003, -0.0061615540444652, 0.004219996338624943, 0.0045137344407416196, 0.004544785189548505, -0.006580641897768561, 0.013507741868440113, 0.0031662101397675183, -0.0043014698179093995, -0.015464832915545252, -0.007321873085795382, -0.04802014515434466, -0.017253430026683354, 0.005311920245416036, -0.00895457550498961, -0.0012344420023539327, 0.00033733852315674185, 0.009393232271169238, -0.011200281571324357, -0.0049590176206998696, -0.014555427481219452, 0.002815909688066088, 0.007736802761231409, 0.007904903959750107, 0.021949276805271423, -0.02617087514503088, 0.01264357100874585, 0.008846030569016713, 0.021810157374991427, 0.019172483192970633, 0.0011722320976810608, 0.008463382887625815, 0.0012668704384196673, -0.03579375188283859, -0.029249081187152724, 0.0034918046486624526, 0.0066222594345675175, -0.017060220005287955, -0.011854846093434243, 0.008782273849254575, -0.0041538042879857556, 0.016913100018905048, 0.006181084596694455, -0.019992553462500073, -0.008889043777926332, 0.004944667909462643, 0.007379934104863166, -0.02339825604899547, -0.008897769231711143, 0.001525982888284401, 0.00304614086962442, 0.014836021990222947, -0.00777032699885687, 0.007308944209982096, 0.0071981779395591345, 0.014750314260280246, 0.008451081338480538, -0.003352439719100848, 0.007904311964039375, 0.005060930796399592, -0.010292262300393543, -0.0007270705112646257, -0.00878448804930398, -0.007395375555700065, -0.002160962637583297, -0.014704084093212848, 0.0006941846809620842, 0.002543578117230552, -0.013492023578091445, -0.024605480815037963, 0.007969577911545334, 0.012305062562356642, 0.0028189711814951544, 0.018738551500634054, 0.0206933276164032, -0.005181513903192565, 0.014605599437434084, 0.014450726396112062, 0.005884772709476764, -0.002624761123713403, 0.023220023546508647, -0.008583365921367481, 0.01428552077999825, 0.003041114608835089, 0.009041893717007584, -0.00010503081783648609, 0.00927799299333908, -0.004231038774933828, 0.003514761261994768, -0.007004378587107524, -0.0009476729569030184, 0.0032139599394559325, -0.0054092059573836145, 0.003062464871804152, 0.006791493659462762, -0.009464581251050323, 0.021063108453680517, -0.005687115468736531, 0.010139273793712718, 0.007412546180234832, -0.012927413504307306, 0.007920333295669412, 0.016691187322555083, 0.0007576841974288258, -0.0027256990510847313, -0.008503016954340708, 0.005359833653989633, -0.01071386808616639, -0.0007698565692457155, -0.005547443603647461, -0.002840913498761015, 0.0005176241156821833, 0.002226498389352717, -0.0054243112800536515]\n"
     ]
    }
   ],
   "source": [
    "close_aapl= aapl_Prices.loc['Close']\n",
    "print(close_aapl)\n",
    "return_aapl_prices=[0]*len(close_aapl)\n",
    "for i in range(1,len(aapl_Prices)):\n",
    "    return_prices = ((close_aapl.iloc[i] - close_aapl.iloc[i - 1]) / close_aapl.iloc[i - 1])\n",
    "    return_aapl_prices[i]=return_prices\n",
    "return_price = [value[0] for value in return_aapl_prices[1:]]\n",
    "print(return_price) "
   ]
  },
  {
   "cell_type": "code",
   "execution_count": 191,
   "id": "238150a5-e9f7-4ad7-9367-d2cae2f93275",
   "metadata": {
    "tags": []
   },
   "outputs": [
    {
     "name": "stdout",
     "output_type": "stream",
     "text": [
      "Sid  Field       Date  FIBBG000B9XRY4  Return_Price\n",
      "0    Close 2023-01-03        124.2163      0.000000\n",
      "1    Close 2023-01-04        125.4975      0.010314\n",
      "2    Close 2023-01-05        124.1666     -0.010605\n",
      "3    Close 2023-01-06        128.7352      0.036794\n",
      "4    Close 2023-01-09        129.2616      0.004089\n",
      "..     ...        ...             ...           ...\n",
      "245  Close 2023-12-22        193.3533     -0.005547\n",
      "246  Close 2023-12-26        192.8040     -0.002841\n",
      "247  Close 2023-12-27        192.9038      0.000518\n",
      "248  Close 2023-12-28        193.3333      0.002226\n",
      "249  Close 2023-12-29        192.2846     -0.005424\n",
      "\n",
      "[250 rows x 4 columns]\n"
     ]
    },
    {
     "data": {
      "image/png": "[encoded data removed]",
      "text/plain": [
       "<Figure size 1080x576 with 1 Axes>"
      ]
     },
     "metadata": {},
     "output_type": "display_data"
    }
   ],
   "source": [
    "reset['Return_Price'] = [0] + return_price\n",
    "dates = reset['Date'] \n",
    "return_amt = reset['Return_Price']\n",
    "print(reset)\n",
    "plt.figure(figsize=(15, 8))\n",
    "plt.plot(dates, return_amt, label='Return Price')\n",
    "plt.scatter(dates[::30], return_amt[::30], c='red', label='Selected Return Prices')  \n",
    "plt.xticks(dates[::30], rotation=90)\n",
    "plt.title('Return Price Plot')\n",
    "plt.xlabel('Date')\n",
    "plt.ylabel('Return Price')\n",
    "plt.legend()\n",
    "plt.show()\n"
   ]
  },
  {
   "cell_type": "markdown",
   "id": "90dbb07c-05fb-4624-9a5e-dbf03a1e9b2e",
   "metadata": {},
   "source": [
    "# state classification:\n",
    "if r(d) >= 0.1, s(d) = +1\n",
    "else if r(d) > -0.1, s(d) = 0\n",
    "else, s(d) = -1\n",
    "That is, depending on whether the returns on day d are high, medium or low, we classify the state as Bull\n",
    "(+1), Flat (0) or Bear (-1)."
   ]
  },
  {
   "cell_type": "code",
   "execution_count": 140,
   "id": "d9b7a567-bb29-4683-a859-facda6470a1c",
   "metadata": {
    "tags": []
   },
   "outputs": [
    {
     "name": "stdout",
     "output_type": "stream",
     "text": [
      "[1, -1, 1, 0, 0, 1, 0, 1, 0, 0, 0, 1, 1, 1, 0, 1, 1, -1, 0, 0, 1, 1, -1, 1, -1, 0, 0, 1, 0, 1, -1, 0, -1, 0, 0, -1, 0, 0, -1, 0, 1, 1, -1, 0, -1, -1, 1, 1, 0, 1, 0, 1, 1, 0, 0, 0, -1, 0, 1, 0, 1, 0, 0, -1, 0, -1, 0, 0, 1, 0, 0, 0, 0, 0, 0, 0, 0, 0, 1, 0, 0, 0, 0, 0, 1, 0, 0, 1, 0, 0, 0, 0, 0, 1, 0, 0, -1, 0, 0, 1, 1, 0, 1, 0, 0, 0, 0, 1, 0, 1, 0, 0, 1, 0, 0, 0, 1, 0, 0, 1, 0, 0, 1, 0, 0, 0, 0, -1, 0, 0, 0, 0, 1, 0, 0, -1, 0, 0, 0, 0, 0, 1, 0, 0, -1, 0, -1, -1, 0, 0, 0, 0, 0, -1, 0, -1, 0, 0, 0, 1, -1, 1, 0, 1, 1, 0, 0, 0, -1, -1, 0, 0, -1, -1, 0, 0, 1, 0, -1, 0, 0, 0, -1, 0, 0, 0, 1, 0, 0, 0, 1, 0, 0, 0, 0, -1, 0, 0, 0, 0, -1, 0, 0, -1, -1, 0, 1, 0, 1, 1, 0, 1, 1, 0, 0, 1, 0, 1, 0, 0, 0, 0, 0, 0, 0, 0, 0, 0, 0, 0, 0, 1, 0, 1, 0, -1, 0, 1, 0, 0, 0, 0, -1, 0, 0, 0, 0, 0, 0]\n"
     ]
    },
    {
     "data": {
      "image/png": "[encoded data removed]",
      "text/plain": [
       "<Figure size 1152x432 with 1 Axes>"
      ]
     },
     "metadata": {},
     "output_type": "display_data"
    }
   ],
   "source": [
    "s = []\n",
    "\n",
    "for i in return_price:\n",
    "    if i >= 0.01:#since percent change so /100 resulting in 2 more zeroes after decimal point\n",
    "        s.append(1)\n",
    "    elif i > -0.01:\n",
    "        s.append(0)\n",
    "    else:\n",
    "        s.append(-1)\n",
    "# Count occurrences of -1, 0, and 1\n",
    "counts = {label: s.count(label) for label in set(s)}\n",
    "\n",
    "# Plot bar chart with light and dark blue for -1 and 1\n",
    "colors = ['lightblue', 'gray', 'darkblue']\n",
    "labels = ['-1', '0', '1']\n",
    "values = [counts[-1], counts[0], counts[1]]\n",
    "\n",
    "print(s)\n",
    "# Plot bars\n",
    "bars = plt.bar(labels, values, color=colors)\n",
    "plt.title('Count of -1, 0, and 1 in Return Prices')\n",
    "plt.xlabel('Labels')\n",
    "plt.ylabel('Count')\n",
    "\n",
    "# Display counts on top of the bars\n",
    "for bar, value in zip(bars, values):\n",
    "    plt.text(bar.get_x() + bar.get_width() / 2, value, str(value), ha='center', va='bottom')\n",
    "\n",
    "plt.show()\n"
   ]
  },
  {
   "cell_type": "markdown",
   "id": "ff4a94bc-57b2-4d2d-8c45-129c1eb94b57",
   "metadata": {},
   "source": [
    "# Simplistic value function\n",
    "if s(d+1) = 1 & s(d) = 0, then V(d+1) = V(d) + 1\n",
    "else if s(d+1) = -1 & s(d) = 0, then V(d+1) = V(d) -1\n",
    "and V(d+1) = V(d) in all other cases (including when we decide not to place a buy order trade for the day\n",
    "d+1)."
   ]
  },
  {
   "cell_type": "code",
   "execution_count": 175,
   "id": "a819833a-0234-4d10-80a7-680c10a0baf1",
   "metadata": {
    "tags": []
   },
   "outputs": [
    {
     "name": "stdout",
     "output_type": "stream",
     "text": [
      "[0, 0, 0, 0, 0, 0, 1, 1, 2, 2, 2, 2, 3, 3, 3, 3, 4, 4, 4, 4, 4, 5, 5, 5, 5, 5, 5, 5, 6, 6, 7, 7, 7, 6, 6, 6, 5, 5, 5, 4, 4, 5, 5, 5, 5, 4, 4, 4, 4, 4, 5, 5, 6, 6, 6, 6, 6, 5, 5, 6, 6, 7, 7, 7, 6, 6, 5, 5, 5, 6, 6, 6, 6, 6, 6, 6, 6, 6, 6, 7, 7, 7, 7, 7, 7, 8, 8, 8, 9, 9, 9, 9, 9, 9, 10, 10, 10, 9, 9, 9, 10, 10, 10, 11, 11, 11, 11, 11, 12, 12, 13, 13, 13, 14, 14, 14, 14, 15, 15, 15, 16, 16, 16, 17, 17, 17, 17, 17, 16, 16, 16, 16, 16, 17, 17, 17, 16, 16, 16, 16, 16, 16, 17, 17, 17, 16, 16, 15, 15, 15, 15, 15, 15, 15, 14, 14, 13, 13, 13, 13, 14, 14, 14, 14, 15, 15, 15, 15, 15, 14, 14, 14, 14, 13, 13, 13, 13, 14, 14, 13, 13, 13, 13, 12, 12, 12, 12, 13, 13, 13, 13, 14, 14, 14, 14, 14, 13, 13, 13, 13, 13, 12, 12, 12, 11, 11, 11, 12, 12, 13, 13, 13, 14, 14, 14, 14, 15, 15, 16, 16, 16, 16, 16, 16, 16, 16, 16, 16, 16, 16, 16, 16, 17, 17, 18, 18, 17, 17, 18, 18, 18, 18, 18, 17, 17, 17, 17, 17, 17, 17]\n",
      "Portfolio value= 17\n"
     ]
    }
   ],
   "source": [
    "V=[0]*len(aapl_Prices)\n",
    "for i in range(1,len(aapl_Prices)-1):\n",
    "    if s[i]==1 and s[i-1]==0:\n",
    "        V[i+1]=V[i]+1\n",
    "    elif s[i]==-1 and s[i-1]==0:\n",
    "        V[i+1]=V[i]-1\n",
    "    else:\n",
    "        V[i+1]=V[i]\n",
    "print(V)\n",
    "print(\"Portfolio value=\",V[-1])"
   ]
  },
  {
   "cell_type": "markdown",
   "id": "b3da8be9-9dbd-493d-b6c0-009ba4d47f97",
   "metadata": {},
   "source": [
    "#### Max portfolio Values "
   ]
  },
  {
   "cell_type": "code",
   "execution_count": 178,
   "id": "e5f5f5d4-67b5-403d-b417-4890b3805178",
   "metadata": {
    "tags": []
   },
   "outputs": [
    {
     "name": "stdout",
     "output_type": "stream",
     "text": [
      "Maximum portfolio value: 18\n",
      "Indices of maximum portfolio value: [234, 235, 238, 239, 240, 241, 242]\n",
      "2023-12-07\n",
      "2023-12-08\n",
      "2023-12-13\n",
      "2023-12-14\n",
      "2023-12-15\n",
      "2023-12-18\n",
      "2023-12-19\n"
     ]
    }
   ],
   "source": [
    "import pandas as pd\n",
    "\n",
    "# max portfolio values\n",
    "max_portfolio = max(V)\n",
    "print(\"Maximum portfolio value:\", max_portfolio)\n",
    "\n",
    "indices = [i for i, v in enumerate(V) if v == max_portfolio]\n",
    "\n",
    "print(\"Indices of maximum portfolio value:\", indices)\n",
    "\n",
    "for i in indices:\n",
    "    print(reset['Date'][i].date())"
   ]
  },
  {
   "cell_type": "markdown",
   "id": "22ac3c8d-1e67-46b1-be48-549fc7c53729",
   "metadata": {},
   "source": [
    "#### Calculate the probability distribution of going from the state s(d) to different possible states."
   ]
  },
  {
   "cell_type": "code",
   "execution_count": 181,
   "id": "b24c0795-3b5b-4e82-9966-f32d98bbf7f2",
   "metadata": {
    "tags": []
   },
   "outputs": [
    {
     "name": "stdout",
     "output_type": "stream",
     "text": [
      "Transition Probabilities:\n",
      "\n",
      "Probability of Bull to Flat: 0.1532\n",
      "Probability of Bull to Bear: 0.0282\n",
      "Probability of Flat to Bull: 0.1613\n",
      "Probability of Flat to Bear: 0.0927\n",
      "Probability of Bear to Flat: 0.1048\n",
      "Probability of Bear to Bull: 0.0161\n",
      "\n",
      "Optimal Buy Points: [5, 7, 11, 15, 20, 27, 29, 40, 49, 51, 58, 60, 68, 78, 84, 87, 93, 99, 102, 107, 109, 112, 116, 119, 122, 132, 141, 159, 163, 176, 186, 190, 206, 208, 211, 215, 217, 231, 233, 237]\n",
      "\n",
      "Final Portfolio Value: 17\n"
     ]
    }
   ],
   "source": [
    "bull_to_flat = 0\n",
    "bull_to_bear = 0\n",
    "flat_to_bull = 0\n",
    "flat_to_bear = 0\n",
    "bear_to_flat = 0\n",
    "bear_to_bull = 0\n",
    "flat_to_flat = 0\n",
    "bull_to_bull = 0\n",
    "bear_to_bear = 0\n",
    "# Initialize variables for portfolio value and optimal buy points\n",
    "V = 0\n",
    "optimal_buy_points = []\n",
    "\n",
    "# Iterate over the 's' vector to count transitions and make decisions\n",
    "for i in range(1, len(s)):\n",
    "    current_state = s[i]\n",
    "    previous_state = s[i - 1]\n",
    "\n",
    "    # Count transitions based on the conditions you provided\n",
    "    if current_state == 1 and previous_state == 0:\n",
    "        flat_to_bull += 1\n",
    "        # Assuming you place a buy order and update portfolio value\n",
    "        V += 1\n",
    "        optimal_buy_points.append(i)\n",
    "    elif current_state == -1 and previous_state == 0:\n",
    "        flat_to_bear += 1\n",
    "        # Assuming you place a buy order and update portfolio value\n",
    "        V -= 1\n",
    "    elif current_state == 0 and previous_state == 1:\n",
    "        bull_to_flat += 1\n",
    "    elif current_state == 0 and previous_state == -1:\n",
    "        bear_to_flat += 1\n",
    "    elif current_state == -1 and previous_state == 1:\n",
    "        bull_to_bear += 1\n",
    "    elif current_state == 1 and previous_state == -1:\n",
    "        bear_to_bull += 1\n",
    "    elif current_state == 0 and previous_state == 0:\n",
    "        flat_to_flat+=1\n",
    "    elif current_state == 1 and previous_state == 1:\n",
    "        bull_to_bull+=1\n",
    "    elif current_state == -1 and previous_state == -1:\n",
    "        bear_to_bear+=1\n",
    "# Calculate transition probabilities\n",
    "total_transitions = len(s) - 1\n",
    "prob_bull_to_flat = round(bull_to_flat / total_transitions, 4)\n",
    "prob_bull_to_bear = round(bull_to_bear / total_transitions, 4)\n",
    "prob_flat_to_bull = round(flat_to_bull / total_transitions, 4)\n",
    "prob_flat_to_bear = round(flat_to_bear / total_transitions, 4)\n",
    "prob_bear_to_flat = round(bear_to_flat / total_transitions, 4)\n",
    "prob_bear_to_bull = round(bear_to_bull / total_transitions, 4)\n",
    "prob_flat_to_flat = round(flat_to_flat / total_transitions, 4)\n",
    "prob_bull_to_bull = round(bull_to_bull / total_transitions, 4)\n",
    "prob_bear_to_bear = round(bear_to_bear / total_transitions, 4)\n",
    "\n",
    "# Print or use the transition probabilities as needed\n",
    "print(\"Transition Probabilities:\\n\")\n",
    "print(f\"Probability of Bull to Flat: {prob_bull_to_flat}\")\n",
    "print(f\"Probability of Bull to Bear: {prob_bull_to_bear}\")\n",
    "print(f\"Probability of Flat to Bull: {prob_flat_to_bull}\")\n",
    "print(f\"Probability of Flat to Bear: {prob_flat_to_bear}\")\n",
    "print(f\"Probability of Bear to Flat: {prob_bear_to_flat}\")\n",
    "print(f\"Probability of Bear to Bull: {prob_bear_to_bull}\")\n",
    "\n",
    "# Print optimal buy points and final portfolio value\n",
    "print(\"\\nOptimal Buy Points:\", optimal_buy_points)\n",
    "print(\"\\nFinal Portfolio Value:\", V)\n"
   ]
  },
  {
   "cell_type": "markdown",
   "id": "b258ce18-4ede-4783-8484-c345abda14a9",
   "metadata": {},
   "source": [
    "#### Transition probability matrix"
   ]
  },
  {
   "cell_type": "code",
   "execution_count": 182,
   "id": "6a0df3b6-2734-440a-aa0a-8acc8eafd215",
   "metadata": {
    "tags": []
   },
   "outputs": [
    {
     "name": "stdout",
     "output_type": "stream",
     "text": [
      "\n",
      "Transition Matrix:\n",
      "\n",
      "[0.0202, 0.1048, 0.0161]\n",
      "[0.0927, 0.379, 0.1613]\n",
      "[0.0282, 0.1532, 0.0444]\n"
     ]
    },
    {
     "data": {
      "image/png": "[encoded data removed]",
      "text/plain": [
       "<Figure size 576x432 with 2 Axes>"
      ]
     },
     "metadata": {},
     "output_type": "display_data"
    }
   ],
   "source": [
    "# Create a transition matrix\n",
    "transition_matrix = [\n",
    "    [prob_bear_to_bear, prob_bear_to_flat, prob_bear_to_bull],\n",
    "    [prob_flat_to_bear, prob_flat_to_flat, prob_flat_to_bull],\n",
    "    [prob_bull_to_bear, prob_bull_to_flat, prob_bull_to_bull]\n",
    "]\n",
    "\n",
    "# Display the transition matrix\n",
    "print(\"\\nTransition Matrix:\\n\")\n",
    "for row in transition_matrix:\n",
    "    print(row)\n",
    "# Define state labels for better visualization\n",
    "states = ['Bear', 'Flat', 'Bull']\n",
    "\n",
    "# Create a heatmap using seaborn\n",
    "plt.figure(figsize=(8, 6))\n",
    "sns.heatmap(transition_matrix, annot=True, cmap=\"YlGnBu\", xticklabels=states, yticklabels=states, fmt=\".3f\")\n",
    "plt.title(\"Transition Matrix\")\n",
    "plt.xlabel(\"To State\")\n",
    "plt.ylabel(\"From State\")\n",
    "plt.show()"
   ]
  },
  {
   "cell_type": "markdown",
   "id": "65225d63-f8cb-4ef1-a802-99261cee8582",
   "metadata": {},
   "source": [
    "#### Corresponding dates of optimal indices"
   ]
  },
  {
   "cell_type": "code",
   "execution_count": 184,
   "id": "c9fbc8e4-66c1-4ca0-90f5-23c60c50a626",
   "metadata": {
    "tags": []
   },
   "outputs": [
    {
     "name": "stdout",
     "output_type": "stream",
     "text": [
      "Corresponding dates for buy indices:\n",
      "2023-01-10\n",
      "2023-01-12\n",
      "2023-01-19\n",
      "2023-01-25\n",
      "2023-02-01\n",
      "2023-02-10\n",
      "2023-02-14\n",
      "2023-03-02\n",
      "2023-03-15\n",
      "2023-03-17\n",
      "2023-03-28\n",
      "2023-03-30\n",
      "2023-04-12\n",
      "2023-04-26\n",
      "2023-05-04\n",
      "2023-05-09\n",
      "2023-05-17\n",
      "2023-05-25\n",
      "2023-05-31\n",
      "2023-06-07\n",
      "2023-06-09\n",
      "2023-06-14\n",
      "2023-06-21\n",
      "2023-06-26\n",
      "2023-06-29\n",
      "2023-07-14\n",
      "2023-07-27\n",
      "2023-08-22\n",
      "2023-08-28\n",
      "2023-09-15\n",
      "2023-09-29\n",
      "2023-10-05\n",
      "2023-10-27\n",
      "2023-10-31\n",
      "2023-11-03\n",
      "2023-11-09\n",
      "2023-11-13\n",
      "2023-12-04\n",
      "2023-12-06\n",
      "2023-12-12\n"
     ]
    }
   ],
   "source": [
    "# Convert the DataFrame index to datetime\n",
    "aapl_optimal=aapl_processing\n",
    "buy_dates = pd.to_datetime(aapl_optimal.index[optimal_buy_points])\n",
    "\n",
    "# Print the corresponding dates for the buy indices\n",
    "print(\"Corresponding dates for buy indices:\")\n",
    "for date in buy_dates:\n",
    "    print(date.date())  # Print only the date part"
   ]
  },
  {
   "cell_type": "markdown",
   "id": "5b612a9d-111d-45dd-89f7-01a1eec9bbe0",
   "metadata": {},
   "source": [
    "#### To plot the optimal buy points dates"
   ]
  },
  {
   "cell_type": "code",
   "execution_count": 127,
   "id": "d9cdec1d-6016-4fb4-823b-cae0f42bff11",
   "metadata": {
    "tags": []
   },
   "outputs": [
    {
     "name": "stdout",
     "output_type": "stream",
     "text": [
      "Covariance matrix= 0.03934519194965675\n",
      "portfolio variance= 0.0003934519194965676\n",
      "Standard Deviation= 0.019835622488255003\n",
      "Portfolio Annual return= 0.04568961813485078\n",
      "Annual variance= 0.0%\n",
      "Annual standard deviation= 2.0%\n",
      "Expected annual return= 5.0%\n"
     ]
    }
   ],
   "source": [
    "# To get return price\n",
    "returns = reset['Return_Price']\n",
    "weights=1\n",
    "\n",
    "#covariance matrix annual \n",
    "cov_matrix_annual = returns.cov(returns) * 250#to annualize the 250 trading days\n",
    "print('Covariance matrix=',cov_matrix_annual)\n",
    "\n",
    "#variance\n",
    "portfolio_var=np.dot(weights,np.dot(cov_matrix_annual,weights))\n",
    "print('portfolio variance=',portfolio_var)\n",
    "\n",
    "#std deviation\n",
    "portfolio_std=np.sqrt(portfolio_var)\n",
    "print('Standard Deviation=',portfolio_std)\n",
    "\n",
    "port_annualReturn=np.sum(returns.mean()*weights)*250\n",
    "print('Portfolio Annual return=',port_annualReturn)\n",
    "\n",
    "percent_var=str(round(portfolio_var,2)*100)+'%'\n",
    "percent_std=str(round(portfolio_std,2)*100)+'%'\n",
    "percent_return=str(round(port_annualReturn,2)*100)+'%'\n",
    "\n",
    "print('Annual variance=',percent_var)\n",
    "print('Annual standard deviation=',percent_std)\n",
    "print('Expected annual return=',percent_return)\n"
   ]
  },
  {
   "cell_type": "markdown",
   "id": "41eba1d2-47e4-4f45-bd9e-64a48121545e",
   "metadata": {},
   "source": [
    "#### Portfolio optimization"
   ]
  },
  {
   "cell_type": "code",
   "execution_count": 128,
   "id": "1013a0c5-eeac-4792-8f8f-52be10800f3b",
   "metadata": {
    "tags": []
   },
   "outputs": [
    {
     "name": "stdout",
     "output_type": "stream",
     "text": [
      "Requirement already satisfied: PyPortfolioOpt in /opt/conda/lib/python3.9/site-packages (1.5.5)\n",
      "Requirement already satisfied: cvxpy<2.0.0,>=1.1.19 in /opt/conda/lib/python3.9/site-packages (from PyPortfolioOpt) (1.4.2)\n",
      "Requirement already satisfied: numpy<2.0.0,>=1.22.4 in /opt/conda/lib/python3.9/site-packages (from PyPortfolioOpt) (1.22.4)\n",
      "Requirement already satisfied: pandas>=0.19 in /opt/conda/lib/python3.9/site-packages (from PyPortfolioOpt) (1.3.5)\n",
      "Requirement already satisfied: scipy<2.0,>=1.3 in /opt/conda/lib/python3.9/site-packages (from PyPortfolioOpt) (1.7.1)\n",
      "Requirement already satisfied: osqp>=0.6.2 in /opt/conda/lib/python3.9/site-packages (from cvxpy<2.0.0,>=1.1.19->PyPortfolioOpt) (0.6.5)\n",
      "Requirement already satisfied: ecos>=2 in /opt/conda/lib/python3.9/site-packages (from cvxpy<2.0.0,>=1.1.19->PyPortfolioOpt) (2.0.13)\n",
      "Requirement already satisfied: clarabel>=0.5.0 in /opt/conda/lib/python3.9/site-packages (from cvxpy<2.0.0,>=1.1.19->PyPortfolioOpt) (0.7.1)\n",
      "Requirement already satisfied: scs>=3.0 in /opt/conda/lib/python3.9/site-packages (from cvxpy<2.0.0,>=1.1.19->PyPortfolioOpt) (3.2.4.post1)\n",
      "Requirement already satisfied: pybind11 in /opt/conda/lib/python3.9/site-packages (from cvxpy<2.0.0,>=1.1.19->PyPortfolioOpt) (2.11.1)\n",
      "Requirement already satisfied: python-dateutil>=2.7.3 in /opt/conda/lib/python3.9/site-packages (from pandas>=0.19->PyPortfolioOpt) (2.8.2)\n",
      "Requirement already satisfied: pytz>=2017.3 in /opt/conda/lib/python3.9/site-packages (from pandas>=0.19->PyPortfolioOpt) (2023.3)\n",
      "Requirement already satisfied: qdldl in /opt/conda/lib/python3.9/site-packages (from osqp>=0.6.2->cvxpy<2.0.0,>=1.1.19->PyPortfolioOpt) (0.1.7.post0)\n",
      "Requirement already satisfied: six>=1.5 in /opt/conda/lib/python3.9/site-packages (from python-dateutil>=2.7.3->pandas>=0.19->PyPortfolioOpt) (1.16.0)\n",
      "\u001b[33mWARNING: Running pip as the 'root' user can result in broken permissions and conflicting behaviour with the system package manager. It is recommended to use a virtual environment instead: https://pip.pypa.io/warnings/venv\u001b[0m\u001b[33m\n",
      "\u001b[0m"
     ]
    }
   ],
   "source": [
    "!pip install PyPortfolioOpt"
   ]
  },
  {
   "cell_type": "code",
   "execution_count": 129,
   "id": "06b6675e-fe56-4067-ba73-5e6daf81f1d5",
   "metadata": {
    "tags": []
   },
   "outputs": [],
   "source": [
    "from pypfopt.efficient_frontier import EfficientFrontier\n",
    "from pypfopt import risk_models\n",
    "from pypfopt import expected_returns"
   ]
  },
  {
   "cell_type": "code",
   "execution_count": 152,
   "id": "b629f00b-1177-4146-a79a-2c738ceb9245",
   "metadata": {
    "tags": []
   },
   "outputs": [
    {
     "name": "stdout",
     "output_type": "stream",
     "text": [
      "OrderedDict([('FIBBG000B9XRY4', 1.0)])\n",
      "Expected annual return: 55.6%\n",
      "Annual volatility: 20.0%\n",
      "Sharpe Ratio: 2.69\n"
     ]
    },
    {
     "data": {
      "text/plain": [
       "(0.5561528433105996, 0.19954063517063567, 2.6869356352008826)"
      ]
     },
     "execution_count": 152,
     "metadata": {},
     "output_type": "execute_result"
    }
   ],
   "source": [
    "expect = expected_returns.mean_historical_return(close_aapl)\n",
    "S= risk_models.sample_cov(close_aapl)\n",
    "#optimize for max sharpe ratio\n",
    "efficient =  EfficientFrontier(expect, S)\n",
    "weights =  efficient.max_sharpe()\n",
    "cleaned_weights = efficient.clean_weights()\n",
    "print(cleaned_weights)\n",
    "efficient.portfolio_performance(verbose=True)"
   ]
  },
  {
   "cell_type": "markdown",
   "id": "c6624079-e40a-4037-8547-edb5eaddf061",
   "metadata": {},
   "source": [
    "#### Forecasting price of next 20 days"
   ]
  },
  {
   "cell_type": "code",
   "execution_count": 165,
   "id": "6b825b28-811b-4f1f-934d-7a6365416f93",
   "metadata": {
    "tags": []
   },
   "outputs": [
    {
     "name": "stdout",
     "output_type": "stream",
     "text": [
      "Sid         FIBBG000B9XRY4\n",
      "Date                      \n",
      "2023-01-03        124.2163\n",
      "2023-01-04        125.4975\n",
      "2023-01-05        124.1666\n",
      "2023-01-06        128.7352\n",
      "2023-01-09        129.2616\n",
      "...                    ...\n",
      "2023-12-22        193.3533\n",
      "2023-12-26        192.8040\n",
      "2023-12-27        192.9038\n",
      "2023-12-28        193.3333\n",
      "2023-12-29        192.2846\n",
      "\n",
      "[250 rows x 1 columns]\n",
      "Forecast values:\n",
      "250    192.180646\n",
      "251    192.231844\n",
      "252    192.206628\n",
      "253    192.219047\n",
      "254    192.212931\n",
      "255    192.215943\n",
      "256    192.214460\n",
      "257    192.215190\n",
      "258    192.214831\n",
      "259    192.215008\n",
      "260    192.214921\n",
      "261    192.214964\n",
      "262    192.214942\n",
      "263    192.214953\n",
      "264    192.214948\n",
      "265    192.214950\n",
      "266    192.214949\n",
      "267    192.214950\n",
      "268    192.214949\n",
      "269    192.214949\n",
      "Name: predicted_mean, dtype: float64\n"
     ]
    },
    {
     "name": "stderr",
     "output_type": "stream",
     "text": [
      "/opt/conda/lib/python3.9/site-packages/statsmodels/tsa/base/tsa_model.py:471: ValueWarning: A date index has been provided, but it has no associated frequency information and so will be ignored when e.g. forecasting.\n",
      "  self._init_dates(dates, freq)\n",
      "/opt/conda/lib/python3.9/site-packages/statsmodels/tsa/base/tsa_model.py:471: ValueWarning: A date index has been provided, but it has no associated frequency information and so will be ignored when e.g. forecasting.\n",
      "  self._init_dates(dates, freq)\n",
      "/opt/conda/lib/python3.9/site-packages/statsmodels/tsa/base/tsa_model.py:471: ValueWarning: A date index has been provided, but it has no associated frequency information and so will be ignored when e.g. forecasting.\n",
      "  self._init_dates(dates, freq)\n",
      "/opt/conda/lib/python3.9/site-packages/statsmodels/tsa/base/tsa_model.py:834: ValueWarning: No supported index is available. Prediction results will be given with an integer index beginning at `start`.\n",
      "  return get_prediction_index(\n",
      "/opt/conda/lib/python3.9/site-packages/statsmodels/tsa/base/tsa_model.py:834: DeprecationWarning: No supported index is available. In the next version, calling this method in a model without a supported index will result in an exception.\n",
      "  return get_prediction_index(\n"
     ]
    }
   ],
   "source": [
    "# Assuming 'price' is the column you want to predict\n",
    "print(close_aapl)\n",
    "time_series = close_aapl['FIBBG000B9XRY4']\n",
    "\n",
    "# Fit an ARIMA model with appropriate order\n",
    "model = ARIMA(time_series, order=(1, 1, 1))\n",
    "results = model.fit()\n",
    "\n",
    "# Forecast the next 10 prices\n",
    "forecast_steps = 20\n",
    "forecast_values = results.get_forecast(steps=forecast_steps).predicted_mean\n",
    "\n",
    "print('Forecast values:')\n",
    "print(forecast_values)\n",
    "\n",
    "# Extend the date index for the forecasted values\n",
    "last_date = time_series.index[-1]\n",
    "freq = time_series.index.freq  # Get the frequency of the existing time series\n",
    "forecast_dates = pd.date_range(start=last_date, periods=forecast_steps + 1, freq=freq)\n",
    "\n",
    "# Create a pandas Series with forecasted values and dates\n",
    "forecast_series = pd.Series(forecast_values, index=forecast_dates[1:])\n"
   ]
  },
  {
   "cell_type": "code",
   "execution_count": 159,
   "id": "dd0a393a-efbc-45f5-bf08-fcd4c3b65d6f",
   "metadata": {
    "tags": []
   },
   "outputs": [
    {
     "data": {
      "image/png": "[encoded data removed]",
      "text/plain": [
       "<Figure size 1080x432 with 2 Axes>"
      ]
     },
     "metadata": {},
     "output_type": "display_data"
    }
   ],
   "source": [
    "plt.figure(figsize=(15, 6))\n",
    "\n",
    "# Subplot for last 20 days of given dates\n",
    "plt.subplot(1, 2, 1)\n",
    "plt.plot(time_series.index[-20:], time_series[-20:], label='Last 20 days', color='blue')\n",
    "plt.title('Last 20 Days Prices')\n",
    "plt.xlabel('Date')\n",
    "plt.ylabel('Price')\n",
    "plt.legend()\n",
    "\n",
    "# Set xticks and rotate x labels\n",
    "plt.xticks(rotation=45, ha='right')\n",
    "\n",
    "# Subplot for forecasted prices\n",
    "plt.subplot(1, 2, 2)\n",
    "plt.plot(forecast_values, label='Forecasted 20 days', color='orange')\n",
    "plt.title('Forecasted Prices')\n",
    "plt.xlabel('Date')\n",
    "plt.ylabel('Price')\n",
    "plt.legend()\n",
    "\n",
    "plt.tight_layout()\n",
    "plt.show()"
   ]
  }
 ],
 "metadata": {
  "kernelspec": {
   "display_name": "Python 3.9",
   "language": "python",
   "name": "python3"
  },
  "language_info": {
   "codemirror_mode": {
    "name": "ipython",
    "version": 3
   },
   "file_extension": ".py",
   "mimetype": "text/x-python",
   "name": "python",
   "nbconvert_exporter": "python",
   "pygments_lexer": "ipython3",
   "version": "3.9.12"
  }
 },
 "nbformat": 4,
 "nbformat_minor": 5
}
